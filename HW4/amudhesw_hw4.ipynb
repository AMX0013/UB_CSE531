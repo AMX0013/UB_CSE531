{
 "cells": [
  {
   "cell_type": "markdown",
   "metadata": {},
   "source": [
    "# 3> Longest increasing Subsequence\n",
    "\n"
   ]
  },
  {
   "cell_type": "code",
   "execution_count": 9,
   "metadata": {},
   "outputs": [
    {
     "name": "stdout",
     "output_type": "stream",
     "text": [
      "Longest increasing sequence for \n",
      "  [30, 60, 20, 25, 75, 40, 10, 50, 90, 70, 80] \n",
      " is > 6\n"
     ]
    }
   ],
   "source": [
    "lis_arr = [30,60,20,25,75,40,10,50,90,70,80]  \n",
    "n = len(lis_arr)\n",
    "\n",
    "memo = [1 for _ in range(n)] #1 as 1 is the smallest sub_seq\n",
    "\n",
    "'''\n",
    "The naive approach would be to compute lists of sub-sequences for \n",
    "every element in list , which would constantly require re-calculating the \n",
    "subsequence length.\n",
    "\n",
    "Using memoization we instead reduce this by storing the LIS uptil index i\n",
    "and if there is a smaller element before index i  the memoization list gets\n",
    "updated to include that element and to extend the longest sequence thus far\n",
    "\n",
    "'''\n",
    "res = 0\n",
    "\n",
    "for i in range(n):\n",
    "    j = 0\n",
    "    while j < i:\n",
    "        if lis_arr[j] < lis_arr[i]:\n",
    "            memo[i] = max(memo[i] , memo[j]+1)\n",
    "            res = memo[i]\n",
    "            \n",
    "        j += 1\n",
    "    # find max of the memoized sequence lengths\n",
    "    res =  max(res,memo[i])\n",
    "print(\"Longest increasing sequence for \\n \",lis_arr,\"\\n is >\",res)\n",
    "\n"
   ]
  },
  {
   "cell_type": "markdown",
   "metadata": {},
   "source": [
    "# 2> Maximal weighted Independent sets"
   ]
  },
  {
   "cell_type": "code",
   "execution_count": 14,
   "metadata": {},
   "outputs": [
    {
     "name": "stdout",
     "output_type": "stream",
     "text": [
      "max cumulative weights of the maximal weighted independent set is 47\n"
     ]
    }
   ],
   "source": [
    "\n",
    "# node_ids range from 1 ,2,3,....to n\n",
    "\n",
    "#   here index positions are node_id \n",
    "parent_positions = [0, 0 ,   1, 1, 1,   2,2,2,  3, 4, 4,    6 ]\n",
    "#                  0,  1 ,   2, 3, 4,   5,6,7,  8, 9,10,   11\n",
    "node_weights =    [0,  15,   8,16,18,   3,5,5,  7, 2, 9,    4 ]\n",
    "# and the parent_positions[i] contains the corresponding parent's node_id\n",
    "length = len(parent_positions)\n",
    "curr = length - 1\n",
    "#  length x 2 array\n",
    "memo = [[0 for _ in range(2)] for _ in range(length)]\n",
    "# A node can either be included or excluded\n",
    "      #if included, its grandchildren must be considered\n",
    "      #else, its children are considered\n",
    "# memo[i][0] indicates if i should be considered\n",
    "# memo[i][1] indicates if i should not be considered \n",
    "while (curr > 1):\n",
    "    child = curr\n",
    "    memo[parent_positions[child]][0] = node_weights[parent_positions[child]]\n",
    "    while (child > 0 and parent_positions[curr] == parent_positions[child]):\n",
    "        memo[child][0] = max( memo[child][0], node_weights[child] )\n",
    "        memo[parent_positions[curr]][0] += memo[child][1]\n",
    "        memo[parent_positions[curr]][1] += max(memo[child][0], memo[child][1])\n",
    "        child -= 1\n",
    "    curr = child\n",
    "    max_value = memo[curr][0] if memo[curr][0] > memo[curr][1] else memo[curr][1]\n",
    "print(\"max cumulative weights of the maximal weighted independent set is\",max_value)"
   ]
  }
 ],
 "metadata": {
  "kernelspec": {
   "display_name": "Python 3.10.1 64-bit",
   "language": "python",
   "name": "python3"
  },
  "language_info": {
   "codemirror_mode": {
    "name": "ipython",
    "version": 3
   },
   "file_extension": ".py",
   "mimetype": "text/x-python",
   "name": "python",
   "nbconvert_exporter": "python",
   "pygments_lexer": "ipython3",
   "version": "3.10.1"
  },
  "orig_nbformat": 4,
  "vscode": {
   "interpreter": {
    "hash": "062a732f57ae0d8e7536abbf18838045d08f82b568c05df6f574510cd9eaa6c8"
   }
  }
 },
 "nbformat": 4,
 "nbformat_minor": 2
}
