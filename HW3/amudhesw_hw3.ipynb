{
 "cells": [
  {
   "attachments": {},
   "cell_type": "markdown",
   "metadata": {},
   "source": [
    "# Problem 2>\n",
    "Algorithm : productUsingPolynomialMultiplication\n",
    "Inputs : two arrays representing the two numbers where each array element corresponds to the digit with weight 10^i\n",
    "Output : an integer value equivalent to the product of two numbers represented in the two arrays\n",
    "algorithms being used : polynomial multiplication algorithm using divide&conquer technique , returns an array of coefficients\n"
   ]
  },
  {
   "cell_type": "code",
   "execution_count": null,
   "metadata": {},
   "outputs": [],
   "source": [
    "'''\n",
    "productUsingPolynomialMultiplication(A,B):  \n",
    "\n",
    "    C <- dcPolyMultiply(A,B)\n",
    "    result <- 0\n",
    "\n",
    "    for i in range(0, length(C) ), do:\n",
    "        result <- result + ( pow(10, i) * C[i]  )\n",
    "    end\n",
    "\n",
    "    return result\n",
    "    \n",
    "'''"
   ]
  },
  {
   "attachments": {},
   "cell_type": "markdown",
   "metadata": {},
   "source": [
    "# Problem 4 \n",
    "Given an array A of n distinct numbers, we say that some index i ∈ {1,2,3··· ,n} is a local minimum of A, if A[i] < A[i−1] and A[i] < A[i+1] (we assume that A[0] = A[n +1] = ∞). Suppose the array A is already stored in memory. Give an O(logn)-time algorithm to find a local minimum of A. (There could be multiple local minimums in A; you only need to output one of them.)"
   ]
  },
  {
   "cell_type": "code",
   "execution_count": 5,
   "metadata": {},
   "outputs": [
    {
     "name": "stdout",
     "output_type": "stream",
     "text": [
      "Local Minima is at : 3\n"
     ]
    }
   ],
   "source": [
    "\n",
    "import math\n",
    "\n",
    "def firstLocalMinimaFinder(localMinimaArray, low, high)-> int:\n",
    "    A = localMinimaArray #[math.inf,1,2,5,12,8,3,6,math.inf]\n",
    "    mid =low + (low+ high) //2\n",
    "    midL = mid-1\n",
    "    midR = mid+1\n",
    "    if (A[mid] < A[midR] and A[mid] < A[midL])  :\n",
    "         \n",
    "        return mid\n",
    "    else:\n",
    "        if A[mid] >  A[midL]:\n",
    "            firstLocalMinimaFinder(A , low , midL)\n",
    "        else:\n",
    "            firstLocalMinimaFinder(A , midR , high)\n",
    "\n",
    "localMinimaArray = [math.inf,7, 5, 2, 11, 13, 37,math.inf]\n",
    "low = 0\n",
    "high = len(localMinimaArray)-1\n",
    "print(\"Local Minima is at :\",firstLocalMinimaFinder(localMinimaArray,low,high) )\n",
    "\n"
   ]
  },
  {
   "attachments": {},
   "cell_type": "markdown",
   "metadata": {},
   "source": [
    "# Problem 3 \n",
    "Suppose you are given n pictures of human faces, numbered from 1 to n. There is a face comparison program A that, given two different indices i and j from 1, 2,··· ,n, returns whether face i and face j are the same, i.e., are of the same person. A majority face is a face that appears more than n/2 times in the n pictures. The problem, then, is to decide whether there is a majority face or not, using the algorithm A as a black box. You need to design and analyze an algorithm that only calls A O(nlogn) times"
   ]
  },
  {
   "attachments": {},
   "cell_type": "markdown",
   "metadata": {},
   "source": [
    "Instructor's hint : The hint is the following. Suppose you have an array of integers and you break it into two subarrays. If an integer is a majority of the whole array, then it must be the majority of at least one of the two subarrays. \n",
    "\n",
    "Algorithm : findMajorityFace\n",
    "Input : categorizedFacesList > An array of size \"n\" same as the one used in blackbox algorigthm A , but now has a unique tag associated to those faces that come under a common sub-group\n",
    "        low > index from which the comparisons begins            [at inital call, this is the first index position of the input]\n",
    "        high > the index till which the comparisons occur        [at inital call, this is the last  index position of the input]\n",
    "        faceFreqs > a dictionary holding frequency of each face type\n",
    "Output :dominantFace returns a dominant facetype \n",
    "       "
   ]
  },
  {
   "cell_type": "code",
   "execution_count": null,
   "metadata": {},
   "outputs": [],
   "source": [
    "# Algorithm\n",
    "'''\n",
    "findMajorityFace( categorizedFacesList , low, high, faceFreqs , dominantFace)\n",
    "    mid = low + (low+high)/2\n",
    "    # base case #\n",
    "    if low == high , do:\n",
    "        dominantFace = categorizedFacesList[mid]\n",
    "        faceFreqs[ dominantFace ] += 1\n",
    "         \n",
    "        return dominantFace\n",
    "    end\n",
    "\n",
    "    # splitting the domain in halves #\n",
    "    LeftDominantFace <- findMajorityFace( categorizedFacesList , low, mid-1)\n",
    "    RightDominantFace <- findMajorityFace( categorizedFacesList , mid,high)\n",
    "\n",
    "    if faceFreqs[LeftDominantFace] > faceFreqs[RightDominantFace], do:\n",
    "        dominantFace = LeftDominantFace\n",
    "        return True\n",
    "    else if faceFreqs[LeftDominantFace] < faceFreqs[RightDominantFace]\n",
    "        dominantFace = RightDominantFace\n",
    "        return True\n",
    "    \n",
    "    return False\n",
    "'''"
   ]
  },
  {
   "cell_type": "markdown",
   "metadata": {},
   "source": []
  },
  {
   "cell_type": "code",
   "execution_count": null,
   "metadata": {},
   "outputs": [],
   "source": []
  }
 ],
 "metadata": {
  "kernelspec": {
   "display_name": "Python 3.10.1 64-bit",
   "language": "python",
   "name": "python3"
  },
  "language_info": {
   "codemirror_mode": {
    "name": "ipython",
    "version": 3
   },
   "file_extension": ".py",
   "mimetype": "text/x-python",
   "name": "python",
   "nbconvert_exporter": "python",
   "pygments_lexer": "ipython3",
   "version": "3.10.1"
  },
  "orig_nbformat": 4,
  "vscode": {
   "interpreter": {
    "hash": "062a732f57ae0d8e7536abbf18838045d08f82b568c05df6f574510cd9eaa6c8"
   }
  }
 },
 "nbformat": 4,
 "nbformat_minor": 2
}
