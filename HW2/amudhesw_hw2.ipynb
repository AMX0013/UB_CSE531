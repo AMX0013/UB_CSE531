{
 "cells": [
  {
   "attachments": {},
   "cell_type": "markdown",
   "metadata": {},
   "source": [
    "# Problem 1\n",
    " Construct the Huffman code (i.e, the optimum prefix code) for the alphabet\n",
    "{a, b, c, d, e, f, g} with the following frequencies:\n",
    "\n",
    "Symbol:      a  b  c  d  e  f  g\n",
    "Frequencies: 50 20 27 25 29 85 55\n",
    "\n",
    "Also give the weighted length of the code (i.e, the sum over all symbols the frequency\n",
    "noof the symbol times its encoding length)."
   ]
  },
  {
   "cell_type": "code",
   "execution_count": 20,
   "metadata": {},
   "outputs": [
    {
     "name": "stdout",
     "output_type": "stream",
     "text": [
      "g >> 00\n",
      "c >> 010\n",
      "e >> 011\n",
      "f >> 10\n",
      "b >> 1100\n",
      "d >> 1101\n",
      "a >> 111\n"
     ]
    }
   ],
   "source": [
    "import heapq\n",
    "\n",
    "class huffmanTreeNode():\n",
    "    def __init__(self,char,freq,left=None,right = None) -> None:\n",
    "        self.freq = freq\n",
    "        self.char = char\n",
    "\n",
    "        self.left = left\n",
    "        self.right = right\n",
    "\n",
    "        #updating the huffman code for each node\n",
    "        self.hc = ''\n",
    "\n",
    "    #to enable comparison between nodes, we override __lt__ method \n",
    "    def __lt__(self,other):\n",
    "        return self.freq < other.freq\n",
    "    \n",
    "\n",
    "def iterateTree(node,hcVal= ''):\n",
    "    updatedHC = hcVal + str(node.hc)\n",
    "\n",
    "    if(node.left):\n",
    "        iterateTree(node.left,updatedHC)\n",
    "\n",
    "\n",
    "    if(node.right):\n",
    "        iterateTree(node.right,updatedHC)\n",
    "    \n",
    "    if (not node.left and not node.right):\n",
    "        print(node.char,\">>\",updatedHC)\n",
    "\n",
    "\n",
    "\n",
    "chars = ['a' , 'b' , 'c' , 'd' , 'e' , 'f' , 'g'  ]\n",
    "freqs = [ 50 ,  20 ,  27 ,  25 , 29  ,  85 ,  55  ]\n",
    "\n",
    "nodesList = []\n",
    "for i in range(len(chars)):\n",
    "    heapq.heappush(nodesList, huffmanTreeNode(chars[i], freqs[i]))\n",
    "\n",
    "while len(nodesList) > 1:\n",
    "    # left = 0\n",
    "    # right = 1\n",
    "    # left < right\n",
    "    leftNode = heapq.heappop(nodesList)\n",
    "    leftNode.hc = 0\n",
    "    rightNode = heapq.heappop(nodesList)\n",
    "    rightNode.hc = 1\n",
    "    newCumulativeNode = huffmanTreeNode(leftNode.char+rightNode.char , leftNode.freq + rightNode.freq , leftNode, rightNode)\n",
    "    heapq.heappush(nodesList,newCumulativeNode)\n",
    "\n",
    "iterateTree(heapq.heappop(nodesList))"
   ]
  },
  {
   "attachments": {},
   "cell_type": "markdown",
   "metadata": {},
   "source": [
    "# Problem 2 \n",
    "Weare given an array A of length n. For every integer i in {1,2,3,··· ,n}, let bi be median of the sub-array A[1..i]. (If the sub-array has even length, its the median is defined as the lower of the two medians. That is, if i is even, bi is the i/2-th smallest number in A[1..i].)\n",
    "\n",
    "The goal of the problem is to output b1,b2,b3,··· ,bn in O(nlogn) time.\n",
    "\n",
    " For example, if n = 10 and A = . Then \n",
    " b1 = 110\n",
    " b2 = 80\n",
    " b3 = 80\n",
    " b4 = 30\n",
    " b5 = 80\n",
    " b6 = 80\n",
    " b7 = 80\n",
    " b8 = 40\n",
    " b9 = 40\n",
    " b10 = 40.\n",
    "  Hint: use the heap data structure."
   ]
  },
  {
   "cell_type": "code",
   "execution_count": 40,
   "metadata": {},
   "outputs": [
    {
     "name": "stdout",
     "output_type": "stream",
     "text": [
      "[110, 80, 80, 30, 80, 80, 80, 40, 40, 40]\n"
     ]
    }
   ],
   "source": [
    "#Trial 1 , using 1\n",
    "\n",
    "iterativeMedianArr = [110,80,10,30,90,100,20,40,35,70]\n",
    "\n",
    "res = []\n",
    "\n",
    "for i in range(len(iterativeMedianArr)):\n",
    "    poppedItem = None\n",
    "    temp = []\n",
    "    if i==0:\n",
    "        poppedItem = iterativeMedianArr[i]\n",
    "        res.append(iterativeMedianArr[i])\n",
    "        #print(\"b\",i,\"=\",poppedItem)\n",
    "        continue\n",
    "    #print(i)\n",
    "    temp = iterativeMedianArr[0:i+1]\n",
    "    heapq.heapify(temp)\n",
    "    #print(temp)\n",
    "    popCount = 0\n",
    "    popCount = (i//2)+1\n",
    "    for _ in range(popCount):\n",
    "        poppedItem = heapq.heappop(temp)\n",
    "    res.append(poppedItem)\n",
    "    #print(\"b\",i,\"=\",poppedItem)\n",
    "\n",
    "print(res)\n"
   ]
  },
  {
   "attachments": {},
   "cell_type": "markdown",
   "metadata": {},
   "source": [
    "# Problem 3 : Interval covering problem returning smallest sdet size \n",
    "Intervals = [ [0,60] ,[0,35],[40,120], [ 55, 140] ,[60,120],[100,160],[130,160] ]\n"
   ]
  },
  {
   "cell_type": "code",
   "execution_count": 29,
   "metadata": {},
   "outputs": [
    {
     "name": "stdout",
     "output_type": "stream",
     "text": [
      "[[0, 60], [55, 140], [130, 160]]\n"
     ]
    }
   ],
   "source": [
    "import math\n",
    "\n",
    "def maxJobs(intervals,start,end):\n",
    "    intervals.sort()\n",
    "    resultSet = []\n",
    "    finish = 0\n",
    "    intervals.append([math.inf,math.inf]) #padding elemnt \n",
    "    overlap = math.inf\n",
    "     # Its The overlap between the next job's start time and current job's finish\n",
    "    \n",
    "    for i in range(len(intervals)):\n",
    "        if (intervals[i][0] <= start )and ( start - intervals[i][0] <= overlap):\n",
    "            finish =  max( finish, intervals[i][1] )\n",
    "            overlap = min(overlap, (start - intervals[i][0] ) )\n",
    "                        \n",
    "            if finish == intervals[i][1]:\n",
    "                prevStart =  intervals[i][0]\n",
    "        else:\n",
    "            \n",
    "            resultSet.append([prevStart,finish])\n",
    "            overlap = math.inf # REINITIALIZE TO INF for new job\n",
    "            start = finish\n",
    "    \n",
    "    if (end > finish ): # jobs dont fully utilize the given interval\n",
    "        print(\"jobs dont fully utilize the given interval\")\n",
    "        return None\n",
    "    return resultSet \n",
    "intervals = [ [0,60] ,[0,35],[40,120], [ 55, 140] ,[60,120],[100,160],[130,160] ]\n",
    "start = 0\n",
    "end =160\n",
    "print(maxJobs(intervals=intervals,start=start, end=end))"
   ]
  },
  {
   "cell_type": "code",
   "execution_count": null,
   "metadata": {},
   "outputs": [],
   "source": [
    "\n"
   ]
  }
 ],
 "metadata": {
  "kernelspec": {
   "display_name": "Python 3.10.1 64-bit",
   "language": "python",
   "name": "python3"
  },
  "language_info": {
   "codemirror_mode": {
    "name": "ipython",
    "version": 3
   },
   "file_extension": ".py",
   "mimetype": "text/x-python",
   "name": "python",
   "nbconvert_exporter": "python",
   "pygments_lexer": "ipython3",
   "version": "3.10.1"
  },
  "orig_nbformat": 4,
  "vscode": {
   "interpreter": {
    "hash": "062a732f57ae0d8e7536abbf18838045d08f82b568c05df6f574510cd9eaa6c8"
   }
  }
 },
 "nbformat": 4,
 "nbformat_minor": 2
}
